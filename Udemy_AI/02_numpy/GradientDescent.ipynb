{
 "cells": [
  {
   "cell_type": "markdown",
   "metadata": {
    "id": "ifIxcofIREKi"
   },
   "source": [
    "# Gradient Descent Introduction:"
   ]
  },
  {
   "cell_type": "code",
   "execution_count": 1,
   "metadata": {
    "executionInfo": {
     "elapsed": 830,
     "status": "ok",
     "timestamp": 1601876480458,
     "user": {
      "displayName": "Sachin Abeywardana",
      "photoUrl": "https://lh3.googleusercontent.com/a-/AOh14GiNRLlpAolGeTkvIaXft0Lq63atAhxdJZbGhq8MLQ=s64",
      "userId": "16787685245458597769"
     },
     "user_tz": -660
    },
    "id": "Ww5GaSe4REKj"
   },
   "outputs": [
    {
     "name": "stderr",
     "output_type": "stream",
     "text": [
      "C:\\ProgramData\\Anaconda3\\lib\\site-packages\\numpy\\_distributor_init.py:32: UserWarning: loaded more than 1 DLL from .libs:\n",
      "C:\\ProgramData\\Anaconda3\\lib\\site-packages\\numpy\\.libs\\libopenblas.PYQHXLVVQ7VESDPUVUADXEVJOBGHJPAY.gfortran-win_amd64.dll\n",
      "C:\\ProgramData\\Anaconda3\\lib\\site-packages\\numpy\\.libs\\libopenblas.WCDJNK7YVMPZQ2ME2ZZHJJRJ3JIKNDB7.gfortran-win_amd64.dll\n",
      "  stacklevel=1)\n"
     ]
    }
   ],
   "source": [
    "import numpy as np\n",
    "import matplotlib.pyplot as plt\n",
    "\n",
    "np.random.seed(42)\n",
    "\n",
    "%matplotlib inline"
   ]
  },
  {
   "cell_type": "code",
   "execution_count": null,
   "metadata": {},
   "outputs": [],
   "source": []
  },
  {
   "cell_type": "code",
   "execution_count": 2,
   "metadata": {
    "executionInfo": {
     "elapsed": 832,
     "status": "ok",
     "timestamp": 1601876770710,
     "user": {
      "displayName": "Sachin Abeywardana",
      "photoUrl": "https://lh3.googleusercontent.com/a-/AOh14GiNRLlpAolGeTkvIaXft0Lq63atAhxdJZbGhq8MLQ=s64",
      "userId": "16787685245458597769"
     },
     "user_tz": -660
    },
    "id": "dJeuPkFVREKm"
   },
   "outputs": [],
   "source": [
    "N = 100\n",
    "x = np.random.rand(N,1)*5\n",
    "# Let the following command be the true function\n",
    "y = 9.81 * x\n",
    "# Get some noisy observations\n",
    "noise = 2*np.random.randn(N,1)\n",
    "y_obs = y + noise\n"
   ]
  },
  {
   "cell_type": "code",
   "execution_count": 3,
   "metadata": {
    "colab": {
     "base_uri": "https://localhost:8080/",
     "height": 265
    },
    "executionInfo": {
     "elapsed": 820,
     "status": "ok",
     "timestamp": 1601876774507,
     "user": {
      "displayName": "Sachin Abeywardana",
      "photoUrl": "https://lh3.googleusercontent.com/a-/AOh14GiNRLlpAolGeTkvIaXft0Lq63atAhxdJZbGhq8MLQ=s64",
      "userId": "16787685245458597769"
     },
     "user_tz": -660
    },
    "id": "9dCnPKKyREKp",
    "outputId": "2412ef09-e579-4ae6-95e7-c80bc0167752"
   },
   "outputs": [
    {
     "data": {
      "image/png": "[encoded data removed]",
      "text/plain": [
       "<Figure size 432x288 with 1 Axes>"
      ]
     },
     "metadata": {
      "needs_background": "light"
     },
     "output_type": "display_data"
    }
   ],
   "source": [
    "plt.scatter(x, y_obs, c='g', label='Observations')\n",
    "plt.plot(x, y, c='r', label='True function')\n",
    "plt.legend()\n",
    "plt.show()"
   ]
  },
  {
   "cell_type": "code",
   "execution_count": null,
   "metadata": {},
   "outputs": [],
   "source": [
    "10.1, 20.2 -> 10, 20"
   ]
  },
  {
   "cell_type": "markdown",
   "metadata": {
    "id": "GJ3vJgNoREKs"
   },
   "source": [
    "## Gradient Descent\n",
    "\n",
    "We are trying to minimise $\\sum \\xi_i^2$.\n",
    "\n",
    "\\begin{align}\n",
    "\\mathcal{L} & = \\frac{1}{N}\\sum_{i=1}^N (y_i-f(x_i,w))^2 \\\\\n",
    "& = \\frac{1}{N}\\sum_{i=1}^N (y_i- w x_i)^2 \\\\\n",
    "\\frac{\\delta\\mathcal{L}}{\\delta w} & = \\frac{1}{N}\\sum_{i=1}^N 2(y_i-w x_i)(-x_i) \\\\ \n",
    "& = -\\frac{1}{N}\\sum_{i=1}^N 2\\xi_i x_i\n",
    "\\end{align}\n",
    "where $\\xi_i$ is the error term $y_i-f(x_i,w,b)$.\n",
    "\n",
    "Finally the weights can be updated as $w_{new} = w_{current} - \\gamma \\frac{\\delta\\mathcal{L}}{\\delta w}$ where $\\gamma$ is a learning rate between 0 and 1."
   ]
  },
  {
   "cell_type": "code",
   "execution_count": 5,
   "metadata": {
    "executionInfo": {
     "elapsed": 820,
     "status": "ok",
     "timestamp": 1601877339882,
     "user": {
      "displayName": "Sachin Abeywardana",
      "photoUrl": "https://lh3.googleusercontent.com/a-/AOh14GiNRLlpAolGeTkvIaXft0Lq63atAhxdJZbGhq8MLQ=s64",
      "userId": "16787685245458597769"
     },
     "user_tz": -660
    },
    "id": "PCdXm6zAREKs"
   },
   "outputs": [],
   "source": [
    "# Helper functions\n",
    "def f(w):\n",
    "    return w*x\n",
    "\n",
    "def loss_function(e):\n",
    "    L = np.sum(np.square(e))/N\n",
    "    return L\n",
    "\n",
    "def dL_dw(e,w):\n",
    "    return -2*np.mean(e * x)"
   ]
  },
  {
   "cell_type": "code",
   "execution_count": 6,
   "metadata": {
    "executionInfo": {
     "elapsed": 828,
     "status": "ok",
     "timestamp": 1601877341981,
     "user": {
      "displayName": "Sachin Abeywardana",
      "photoUrl": "https://lh3.googleusercontent.com/a-/AOh14GiNRLlpAolGeTkvIaXft0Lq63atAhxdJZbGhq8MLQ=s64",
      "userId": "16787685245458597769"
     },
     "user_tz": -660
    },
    "id": "ryhk2MuGREKu"
   },
   "outputs": [],
   "source": [
    "# The Actual Gradient Descent\n",
    "def gradient_descent(iter=100,gamma=0.1):\n",
    "    # get starting conditions\n",
    "    w = 10*np.random.randn()\n",
    "    \n",
    "    params = []\n",
    "    loss = np.zeros((iter,1))\n",
    "    for i in range(iter):\n",
    "        params.append(w)\n",
    "        e = y_obs - f(w) # Really important that you use y_obs and not y (you do not have access to true y)\n",
    "        loss[i] = loss_function(e)\n",
    "\n",
    "        #update parameters\n",
    "        w_new = w - gamma*dL_dw(e,w)\n",
    "        w = w_new\n",
    "        \n",
    "    return params, loss\n",
    "        \n",
    "params, loss = gradient_descent()"
   ]
  },
  {
   "cell_type": "code",
   "execution_count": 15,
   "metadata": {
    "executionInfo": {
     "elapsed": 519,
     "status": "ok",
     "timestamp": 1601877342986,
     "user": {
      "displayName": "Sachin Abeywardana",
      "photoUrl": "https://lh3.googleusercontent.com/a-/AOh14GiNRLlpAolGeTkvIaXft0Lq63atAhxdJZbGhq8MLQ=s64",
      "userId": "16787685245458597769"
     },
     "user_tz": -660
    },
    "id": "DnbECc-UREKw"
   },
   "outputs": [],
   "source": [
    "iter=100\n",
    "gamma = 0.1\n",
    "w = 10*np.random.randn()\n",
    "# print(w)\n",
    "params = []\n",
    "loss = np.zeros((iter,1))\n",
    "for i in range(iter):\n",
    "#         from IPython.core.debugger import Tracer; Tracer()()\n",
    "    params.append(w)\n",
    "    e = y_obs - f(w) # Really important that you use y_obs and not y (you do not have access to true y)\n",
    "    loss[i] = loss_function(e)\n",
    "\n",
    "    #update parameters\n",
    "    w_new = w - gamma*dL_dw(e,w)\n",
    "    w = w_new"
   ]
  },
  {
   "cell_type": "code",
   "execution_count": 8,
   "metadata": {
    "colab": {
     "base_uri": "https://localhost:8080/",
     "height": 35
    },
    "executionInfo": {
     "elapsed": 758,
     "status": "ok",
     "timestamp": 1601877344712,
     "user": {
      "displayName": "Sachin Abeywardana",
      "photoUrl": "https://lh3.googleusercontent.com/a-/AOh14GiNRLlpAolGeTkvIaXft0Lq63atAhxdJZbGhq8MLQ=s64",
      "userId": "16787685245458597769"
     },
     "user_tz": -660
    },
    "id": "co8f9FJHREKz",
    "outputId": "a2acc405-99e0-4c16-b5ea-9f1458756f79"
   },
   "outputs": [
    {
     "data": {
      "text/plain": [
       "1.63025148935958e-14"
      ]
     },
     "execution_count": 8,
     "metadata": {},
     "output_type": "execute_result"
    }
   ],
   "source": [
    "dL_dw(e,w)"
   ]
  },
  {
   "cell_type": "code",
   "execution_count": 18,
   "metadata": {
    "colab": {
     "base_uri": "https://localhost:8080/",
     "height": 265
    },
    "executionInfo": {
     "elapsed": 1235,
     "status": "ok",
     "timestamp": 1601877346920,
     "user": {
      "displayName": "Sachin Abeywardana",
      "photoUrl": "https://lh3.googleusercontent.com/a-/AOh14GiNRLlpAolGeTkvIaXft0Lq63atAhxdJZbGhq8MLQ=s64",
      "userId": "16787685245458597769"
     },
     "user_tz": -660
    },
    "id": "sCOF955xREK3",
    "outputId": "8f450071-666c-4710-f6cd-219e5934c6da"
   },
   "outputs": [
    {
     "data": {
      "image/png": "[encoded data removed]",
      "text/plain": [
       "<Figure size 432x288 with 1 Axes>"
      ]
     },
     "metadata": {
      "needs_background": "light"
     },
     "output_type": "display_data"
    }
   ],
   "source": [
    "plt.plot(loss)\n",
    "plt.show()"
   ]
  },
  {
   "cell_type": "code",
   "execution_count": 19,
   "metadata": {
    "colab": {
     "base_uri": "https://localhost:8080/",
     "height": 295
    },
    "executionInfo": {
     "elapsed": 880,
     "status": "ok",
     "timestamp": 1601877362294,
     "user": {
      "displayName": "Sachin Abeywardana",
      "photoUrl": "https://lh3.googleusercontent.com/a-/AOh14GiNRLlpAolGeTkvIaXft0Lq63atAhxdJZbGhq8MLQ=s64",
      "userId": "16787685245458597769"
     },
     "user_tz": -660
    },
    "id": "s1n-M8vyREK5",
    "outputId": "b25c26c8-47de-4693-b43e-0fd9f68e8833"
   },
   "outputs": [
    {
     "data": {
      "image/png": "[encoded data removed]",
      "text/plain": [
       "<Figure size 432x288 with 1 Axes>"
      ]
     },
     "metadata": {
      "needs_background": "light"
     },
     "output_type": "display_data"
    }
   ],
   "source": [
    "params = np.array(params)\n",
    "plt.plot(params)\n",
    "plt.title('Gradient descent')\n",
    "plt.ylabel('w')\n",
    "plt.show()"
   ]
  },
  {
   "cell_type": "code",
   "execution_count": 20,
   "metadata": {
    "colab": {
     "base_uri": "https://localhost:8080/",
     "height": 35
    },
    "executionInfo": {
     "elapsed": 873,
     "status": "ok",
     "timestamp": 1601877369468,
     "user": {
      "displayName": "Sachin Abeywardana",
      "photoUrl": "https://lh3.googleusercontent.com/a-/AOh14GiNRLlpAolGeTkvIaXft0Lq63atAhxdJZbGhq8MLQ=s64",
      "userId": "16787685245458597769"
     },
     "user_tz": -660
    },
    "id": "ZyWMbmZ7REK7",
    "outputId": "cec7534b-8bbf-4c41-fa4b-734799557c70"
   },
   "outputs": [
    {
     "data": {
      "text/plain": [
       "9.757142247178274"
      ]
     },
     "execution_count": 20,
     "metadata": {},
     "output_type": "execute_result"
    }
   ],
   "source": [
    "params[-1]"
   ]
  },
  {
   "cell_type": "markdown",
   "metadata": {
    "id": "Lts1UxrRREK9"
   },
   "source": [
    "## Scikit Learn way:"
   ]
  },
  {
   "cell_type": "code",
   "execution_count": 24,
   "metadata": {
    "colab": {
     "base_uri": "https://localhost:8080/",
     "height": 35
    },
    "executionInfo": {
     "elapsed": 806,
     "status": "ok",
     "timestamp": 1601877412492,
     "user": {
      "displayName": "Sachin Abeywardana",
      "photoUrl": "https://lh3.googleusercontent.com/a-/AOh14GiNRLlpAolGeTkvIaXft0Lq63atAhxdJZbGhq8MLQ=s64",
      "userId": "16787685245458597769"
     },
     "user_tz": -660
    },
    "id": "4mSdQPsHREK-",
    "outputId": "49d92bd9-53de-442a-a79e-0cc3ab853011"
   },
   "outputs": [
    {
     "data": {
      "text/plain": [
       "LinearRegression(copy_X=True, fit_intercept=False, n_jobs=None, normalize=False)"
      ]
     },
     "execution_count": 24,
     "metadata": {
      "tags": []
     },
     "output_type": "execute_result"
    }
   ],
   "source": [
    "from sklearn.linear_model import LinearRegression\n",
    "\n",
    "model = LinearRegression(fit_intercept=False)\n",
    "model.fit(x, y_obs)"
   ]
  },
  {
   "cell_type": "code",
   "execution_count": 25,
   "metadata": {
    "colab": {
     "base_uri": "https://localhost:8080/",
     "height": 35
    },
    "executionInfo": {
     "elapsed": 816,
     "status": "ok",
     "timestamp": 1601877414450,
     "user": {
      "displayName": "Sachin Abeywardana",
      "photoUrl": "https://lh3.googleusercontent.com/a-/AOh14GiNRLlpAolGeTkvIaXft0Lq63atAhxdJZbGhq8MLQ=s64",
      "userId": "16787685245458597769"
     },
     "user_tz": -660
    },
    "id": "DDaVsBm7RELA",
    "outputId": "fffd6cc8-31b6-4f92-8ca1-f2282e92e616"
   },
   "outputs": [
    {
     "data": {
      "text/plain": [
       "(0.0, array([[9.8634078]]))"
      ]
     },
     "execution_count": 25,
     "metadata": {
      "tags": []
     },
     "output_type": "execute_result"
    }
   ],
   "source": [
    "model.intercept_, model.coef_"
   ]
  },
  {
   "cell_type": "code",
   "execution_count": null,
   "metadata": {
    "id": "0081t-IbVTJt"
   },
   "outputs": [],
   "source": []
  }
 ],
 "metadata": {
  "anaconda-cloud": {},
  "colab": {
   "name": "GradientDescent.ipynb",
   "provenance": []
  },
  "kernelspec": {
   "display_name": "Python 3",
   "language": "python",
   "name": "python3"
  },
  "language_info": {
   "codemirror_mode": {
    "name": "ipython",
    "version": 3
   },
   "file_extension": ".py",
   "mimetype": "text/x-python",
   "name": "python",
   "nbconvert_exporter": "python",
   "pygments_lexer": "ipython3",
   "version": "3.6.10"
  },
  "latex_envs": {
   "bibliofile": "biblio.bib",
   "cite_by": "apalike",
   "current_citInitial": 1,
   "eqLabelWithNumbers": true,
   "eqNumInitial": 0
  }
 },
 "nbformat": 4,
 "nbformat_minor": 1
}
