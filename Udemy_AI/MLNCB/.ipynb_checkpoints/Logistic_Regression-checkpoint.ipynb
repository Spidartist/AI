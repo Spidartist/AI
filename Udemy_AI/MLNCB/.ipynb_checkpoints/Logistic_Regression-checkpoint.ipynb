{
 "cells": [
  {
   "cell_type": "code",
   "execution_count": 4,
   "id": "846a4a72",
   "metadata": {},
   "outputs": [],
   "source": [
    "from sklearn.linear_model import LogisticRegression"
   ]
  },
  {
   "cell_type": "code",
   "execution_count": 82,
   "id": "b0de8b26",
   "metadata": {},
   "outputs": [],
   "source": [
    "import numpy as np \n",
    "import matplotlib.pyplot as plt\n",
    "np.random.seed(2)\n",
    "\n",
    "X = np.array([[0.50, 0.75, 1.00, 1.25, 1.50, 1.75, 1.75, 2.00, 2.25, 2.50, 2.75, 3.00, 3.25, 3.50, 4.00, 4.25, 4.50, 4.75, 5.00, 5.50]])\n",
    "y = np.array([0, 0, 0, 0, 0, 0, 1, 0, 1, 0, 1, 0, 1, 0, 1, 1, 1, 1, 1, 1])\n",
    "X_1 = X.T\n",
    "# extended data \n",
    "X = np.concatenate((np.ones((1, X.shape[1])), X), axis = 0)"
   ]
  },
  {
   "cell_type": "code",
   "execution_count": 70,
   "id": "94cf1f4b",
   "metadata": {},
   "outputs": [
    {
     "data": {
      "text/plain": [
       "array([[1.  , 1.  , 1.  , 1.  , 1.  , 1.  , 1.  , 1.  , 1.  , 1.  , 1.  ,\n",
       "        1.  , 1.  , 1.  , 1.  , 1.  , 1.  , 1.  , 1.  , 1.  ],\n",
       "       [0.5 , 0.75, 1.  , 1.25, 1.5 , 1.75, 1.75, 2.  , 2.25, 2.5 , 2.75,\n",
       "        3.  , 3.25, 3.5 , 4.  , 4.25, 4.5 , 4.75, 5.  , 5.5 ]])"
      ]
     },
     "execution_count": 70,
     "metadata": {},
     "output_type": "execute_result"
    }
   ],
   "source": [
    "X"
   ]
  },
  {
   "cell_type": "code",
   "execution_count": 27,
   "id": "54599b7f",
   "metadata": {},
   "outputs": [
    {
     "data": {
      "text/plain": [
       "(20,)"
      ]
     },
     "execution_count": 27,
     "metadata": {},
     "output_type": "execute_result"
    }
   ],
   "source": [
    "y.shape"
   ]
  },
  {
   "cell_type": "code",
   "execution_count": 28,
   "id": "53c4f509",
   "metadata": {},
   "outputs": [
    {
     "data": {
      "text/plain": [
       "array([[1.  ],\n",
       "       [0.75]])"
      ]
     },
     "execution_count": 28,
     "metadata": {},
     "output_type": "execute_result"
    }
   ],
   "source": [
    "X[:, 1].reshape(2, 1)"
   ]
  },
  {
   "cell_type": "code",
   "execution_count": 29,
   "id": "78037765",
   "metadata": {},
   "outputs": [
    {
     "name": "stdout",
     "output_type": "stream",
     "text": [
      "20\n",
      "40\n",
      "60\n",
      "80\n",
      "100\n",
      "120\n",
      "140\n",
      "160\n",
      "180\n",
      "200\n",
      "220\n",
      "240\n",
      "260\n",
      "280\n",
      "300\n",
      "320\n",
      "340\n",
      "360\n",
      "380\n",
      "400\n",
      "420\n",
      "440\n",
      "460\n",
      "480\n",
      "500\n",
      "520\n",
      "540\n",
      "560\n",
      "580\n",
      "600\n",
      "620\n",
      "640\n",
      "660\n",
      "680\n",
      "700\n",
      "720\n",
      "740\n",
      "760\n",
      "780\n",
      "800\n",
      "820\n",
      "840\n",
      "860\n",
      "880\n",
      "900\n",
      "920\n",
      "940\n",
      "960\n",
      "980\n",
      "1000\n",
      "1020\n",
      "1040\n",
      "1060\n",
      "1080\n",
      "1100\n",
      "1120\n",
      "1140\n",
      "1160\n",
      "1180\n",
      "1200\n",
      "1220\n",
      "1240\n",
      "1260\n",
      "1280\n",
      "1300\n",
      "1320\n",
      "1340\n",
      "1360\n",
      "1380\n",
      "1400\n",
      "1420\n",
      "1440\n",
      "1460\n",
      "1480\n",
      "1500\n",
      "1520\n",
      "1540\n",
      "1560\n",
      "1580\n",
      "1600\n",
      "1620\n",
      "1640\n",
      "1660\n",
      "1680\n",
      "1700\n",
      "1720\n",
      "1740\n",
      "1760\n",
      "1780\n",
      "1800\n",
      "1820\n",
      "1840\n",
      "1860\n",
      "1880\n",
      "1900\n",
      "1920\n",
      "1940\n",
      "1960\n",
      "1980\n",
      "2000\n",
      "2020\n",
      "2040\n",
      "2060\n",
      "2080\n",
      "2100\n",
      "2120\n",
      "2140\n",
      "2160\n",
      "2180\n",
      "2200\n",
      "2220\n",
      "2240\n",
      "2260\n",
      "2280\n",
      "2300\n",
      "2320\n",
      "2340\n",
      "2360\n",
      "2380\n",
      "2400\n",
      "2420\n",
      "2440\n",
      "2460\n",
      "2480\n",
      "2500\n",
      "2520\n",
      "2540\n",
      "2560\n",
      "2580\n",
      "2600\n",
      "2620\n",
      "2640\n",
      "2660\n",
      "2680\n",
      "2700\n",
      "2720\n",
      "2740\n",
      "2760\n",
      "2780\n",
      "2800\n",
      "2820\n",
      "2840\n",
      "2860\n",
      "2880\n",
      "2900\n",
      "2920\n",
      "2940\n",
      "2960\n",
      "2980\n",
      "3000\n",
      "3020\n",
      "3040\n",
      "3060\n",
      "3080\n",
      "3100\n",
      "3120\n",
      "3140\n",
      "3160\n",
      "3180\n",
      "3200\n",
      "3220\n",
      "3240\n",
      "3260\n",
      "3280\n",
      "3300\n",
      "3320\n",
      "3340\n",
      "3360\n",
      "3380\n",
      "3400\n",
      "3420\n",
      "3440\n",
      "3460\n",
      "3480\n",
      "3500\n",
      "3520\n",
      "3540\n",
      "3560\n",
      "3580\n",
      "3600\n",
      "3620\n",
      "3640\n",
      "3660\n",
      "3680\n",
      "3700\n",
      "3720\n",
      "3740\n",
      "3760\n",
      "3780\n",
      "3800\n",
      "3820\n",
      "3840\n",
      "3860\n",
      "3880\n",
      "3900\n",
      "3920\n",
      "3940\n",
      "3960\n",
      "3980\n",
      "4000\n",
      "4020\n",
      "4040\n",
      "4060\n",
      "4080\n",
      "4100\n",
      "4120\n",
      "4140\n",
      "4160\n",
      "4180\n",
      "4200\n",
      "4220\n",
      "4240\n",
      "4260\n",
      "4280\n",
      "4300\n",
      "4320\n",
      "4340\n",
      "4360\n",
      "4380\n",
      "4400\n",
      "4420\n",
      "4440\n",
      "4460\n",
      "4480\n",
      "4500\n",
      "4520\n",
      "4540\n",
      "4560\n",
      "4580\n",
      "4600\n",
      "4620\n",
      "4640\n",
      "4660\n",
      "4680\n",
      "4700\n",
      "4720\n",
      "[[-4.09015735]\n",
      " [ 1.43796544]]\n"
     ]
    }
   ],
   "source": [
    "def sigmoid(s):\n",
    "    return 1/(1 + np.exp(-s))    # Hàm sigmoid\n",
    "\n",
    "def logistic_sigmoid_regression(X, y, w_init, eta, tol = 1e-3, max_count = 10000):   \n",
    "    w = [w_init]      # Tạo list lưu trữ w\n",
    "#     it = 0            \n",
    "    N = X.shape[1]    # Số phần tử của x\n",
    "    d = X.shape[0]    # Số các (feature+1) của X\n",
    "    count = 0         # Đếm các lần duyệt qua các phần tử \n",
    "    check_w_after = 20   # Cứ sau 20 lần duyệt các phần tử lại so sánh với điều kiện dừng\n",
    "    while count < max_count:   \n",
    "        \n",
    "        # mix data \n",
    "        mix_id = np.random.permutation(N)   # Trộn dữ liệu đảm bảo tính ngẫu nhiên cho SGD\n",
    "        \n",
    "        for i in mix_id:                    \n",
    "            xi = X[:, i].reshape(d, 1)      # Chọn từng cột của X rồi reshape lại để có thể nhân ma trận với w\n",
    "            yi = y[i]                         \n",
    "            zi = sigmoid(np.dot(w[-1].T, xi)) # Tính zi là hàm sigmoid nhận đầu vào là w.T x X\n",
    "            w_new = w[-1] + eta*(yi - zi)*xi  # Cập nhật lại w theo SGD\n",
    "            count += 1                         \n",
    "            # stopping criteria\n",
    "            \n",
    "            if count%check_w_after == 0:    # nếu count là bội của điều kiện check thì thực hiện bên trong if\n",
    "                print(count)\n",
    "#                 print(len(w))\n",
    "                if np.linalg.norm(w_new - w[-check_w_after])/len(w_init) < tol:    # Nếu nhỏ hơn tol thì tức là nghiệm hội tụ chấp nhận được \n",
    "                    return w\n",
    "            w.append(w_new)    \n",
    "    return w\n",
    "eta = .05       # learning rate = 0.05\n",
    "d = X.shape[0]  \n",
    "w_init = np.random.randn(d, 1)\n",
    "\n",
    "w = logistic_sigmoid_regression(X, y, w_init, eta)\n",
    "print(w[-1])"
   ]
  },
  {
   "cell_type": "code",
   "execution_count": 30,
   "id": "4f96dbc0",
   "metadata": {},
   "outputs": [
    {
     "name": "stdout",
     "output_type": "stream",
     "text": [
      "[[0.03320858 0.04690084 0.06585404 0.0917293  0.1263958  0.17168703\n",
      "  0.17168703 0.22895408 0.2984405  0.37865905 0.46611392 0.55570256\n",
      "  0.64181036 0.71964909 0.84046666 0.8830046  0.91534269 0.93935626\n",
      "  0.95687912 0.9785144 ]]\n"
     ]
    }
   ],
   "source": [
    "print(sigmoid(np.dot(w[-1].T, X)))"
   ]
  },
  {
   "cell_type": "code",
   "execution_count": 105,
   "id": "48a0aea7",
   "metadata": {},
   "outputs": [
    {
     "data": {
      "text/plain": [
       "(10,)"
      ]
     },
     "execution_count": 105,
     "metadata": {},
     "output_type": "execute_result"
    }
   ],
   "source": [
    "X0 = X[1, np.where(y == 0)][0]\n",
    "y0 = y[np.where(y == 0)]\n",
    "X1 = X[1, np.where(y == 1)][0]\n",
    "y1 = y[np.where(y == 1)]\n",
    "plt.plot(X0, np.ones_like(X0) , 'ro', markersize = 8\n",
    "plt.plot(X1, np.ones_like(X1), 'bs', markersize = 8)\n",
    "\n",
    "xx = np.linspace(0, 6, 1000)\n",
    "w0 = w[-1][0][0]\n",
    "w1 = w[-1][1][0]\n",
    "threshold = -w0/w1\n",
    "yy = sigmoid(w0 + w1*xx)\n",
    "plt.axis([-2, 8, -1, 2])\n",
    "plt.plot(xx, yy, 'g-', linewidth = 2)\n",
    "plt.plot(threshold, .5, 'y^', markersize = 8)\n",
    "plt.xlabel('studying hours')\n",
    "plt.ylabel('predicted probability of pass')\n",
    "plt.show()\n"
   ]
  },
  {
   "cell_type": "code",
   "execution_count": 32,
   "id": "216941fd",
   "metadata": {},
   "outputs": [
    {
     "data": {
      "text/plain": [
       "(array([ 0,  1,  2,  3,  4,  5,  7,  9, 11, 13], dtype=int64),)"
      ]
     },
     "execution_count": 32,
     "metadata": {},
     "output_type": "execute_result"
    }
   ],
   "source": [
    " np.where(y == 0)"
   ]
  },
  {
   "cell_type": "code",
   "execution_count": 10,
   "id": "c1d36121",
   "metadata": {},
   "outputs": [],
   "source": [
    "lst= [1,2,3]"
   ]
  },
  {
   "cell_type": "code",
   "execution_count": 75,
   "id": "1be1cb46",
   "metadata": {},
   "outputs": [
    {
     "data": {
      "text/plain": [
       "array([[0.5 , 0.75, 1.  , 1.25, 1.5 , 1.75, 1.75, 2.  , 2.25, 2.5 , 2.75,\n",
       "        3.  , 3.25, 3.5 , 4.  , 4.25, 4.5 , 4.75, 5.  , 5.5 ]])"
      ]
     },
     "execution_count": 75,
     "metadata": {},
     "output_type": "execute_result"
    }
   ],
   "source": [
    "X_1"
   ]
  },
  {
   "cell_type": "code",
   "execution_count": 83,
   "id": "56def596",
   "metadata": {},
   "outputs": [],
   "source": [
    "one = np.ones((X_1.shape[0], 1))\n",
    "Xbar = np.concatenate((one, X_1), axis = 1)"
   ]
  },
  {
   "cell_type": "code",
   "execution_count": 84,
   "id": "76cf1f17",
   "metadata": {},
   "outputs": [
    {
     "data": {
      "text/plain": [
       "array([[1.  , 0.5 ],\n",
       "       [1.  , 0.75],\n",
       "       [1.  , 1.  ],\n",
       "       [1.  , 1.25],\n",
       "       [1.  , 1.5 ],\n",
       "       [1.  , 1.75],\n",
       "       [1.  , 1.75],\n",
       "       [1.  , 2.  ],\n",
       "       [1.  , 2.25],\n",
       "       [1.  , 2.5 ],\n",
       "       [1.  , 2.75],\n",
       "       [1.  , 3.  ],\n",
       "       [1.  , 3.25],\n",
       "       [1.  , 3.5 ],\n",
       "       [1.  , 4.  ],\n",
       "       [1.  , 4.25],\n",
       "       [1.  , 4.5 ],\n",
       "       [1.  , 4.75],\n",
       "       [1.  , 5.  ],\n",
       "       [1.  , 5.5 ]])"
      ]
     },
     "execution_count": 84,
     "metadata": {},
     "output_type": "execute_result"
    }
   ],
   "source": [
    "Xbar"
   ]
  },
  {
   "cell_type": "code",
   "execution_count": 74,
   "id": "8824f010",
   "metadata": {},
   "outputs": [
    {
     "data": {
      "text/plain": [
       "array([[1.  , 0.5 , 0.75, 1.  , 1.25, 1.5 , 1.75, 1.75, 2.  , 2.25, 2.5 ,\n",
       "        2.75, 3.  , 3.25, 3.5 , 4.  , 4.25, 4.5 , 4.75, 5.  , 5.5 ]])"
      ]
     },
     "execution_count": 74,
     "metadata": {},
     "output_type": "execute_result"
    }
   ],
   "source": [
    "Xbar"
   ]
  },
  {
   "cell_type": "code",
   "execution_count": null,
   "id": "c542f095",
   "metadata": {},
   "outputs": [],
   "source": []
  },
  {
   "cell_type": "code",
   "execution_count": 46,
   "id": "9f133235",
   "metadata": {},
   "outputs": [],
   "source": [
    "X_1 = np.array(X_1)"
   ]
  },
  {
   "cell_type": "code",
   "execution_count": 47,
   "id": "08d56535",
   "metadata": {},
   "outputs": [
    {
     "data": {
      "text/plain": [
       "array([[1.  , 0.5 ],\n",
       "       [1.  , 0.75],\n",
       "       [1.  , 1.  ],\n",
       "       [1.  , 1.25],\n",
       "       [1.  , 1.5 ],\n",
       "       [1.  , 1.75],\n",
       "       [1.  , 1.75],\n",
       "       [1.  , 2.  ],\n",
       "       [1.  , 2.25],\n",
       "       [1.  , 2.5 ],\n",
       "       [1.  , 2.75],\n",
       "       [1.  , 3.  ],\n",
       "       [1.  , 3.25],\n",
       "       [1.  , 3.5 ],\n",
       "       [1.  , 4.  ],\n",
       "       [1.  , 4.25],\n",
       "       [1.  , 4.5 ],\n",
       "       [1.  , 4.75],\n",
       "       [1.  , 5.  ],\n",
       "       [1.  , 5.5 ]])"
      ]
     },
     "execution_count": 47,
     "metadata": {},
     "output_type": "execute_result"
    }
   ],
   "source": [
    "X_1"
   ]
  },
  {
   "cell_type": "code",
   "execution_count": null,
   "id": "ef867701",
   "metadata": {},
   "outputs": [],
   "source": []
  },
  {
   "cell_type": "code",
   "execution_count": 85,
   "id": "b8e27211",
   "metadata": {},
   "outputs": [],
   "source": [
    "model = LogisticRegression()"
   ]
  },
  {
   "cell_type": "code",
   "execution_count": 86,
   "id": "ba552e27",
   "metadata": {},
   "outputs": [
    {
     "data": {
      "text/plain": [
       "LogisticRegression()"
      ]
     },
     "execution_count": 86,
     "metadata": {},
     "output_type": "execute_result"
    }
   ],
   "source": [
    "model.fit(Xbar, y)"
   ]
  },
  {
   "cell_type": "code",
   "execution_count": 88,
   "id": "20740922",
   "metadata": {},
   "outputs": [
    {
     "data": {
      "text/plain": [
       "array([0, 0, 0, 0, 0, 0, 0, 0, 0, 0, 1, 1, 1, 1, 1, 1, 1, 1, 1, 1])"
      ]
     },
     "execution_count": 88,
     "metadata": {},
     "output_type": "execute_result"
    }
   ],
   "source": [
    "model.predict(Xbar)"
   ]
  },
  {
   "cell_type": "code",
   "execution_count": 89,
   "id": "03b02ae2",
   "metadata": {},
   "outputs": [
    {
     "data": {
      "text/plain": [
       "array([0, 0, 0, 0, 0, 0, 1, 0, 1, 0, 1, 0, 1, 0, 1, 1, 1, 1, 1, 1])"
      ]
     },
     "execution_count": 89,
     "metadata": {},
     "output_type": "execute_result"
    }
   ],
   "source": [
    "y"
   ]
  },
  {
   "cell_type": "code",
   "execution_count": 93,
   "id": "81ea7b38",
   "metadata": {},
   "outputs": [
    {
     "data": {
      "text/plain": [
       "array([[2.47471902e-05, 1.14861032e+00]])"
      ]
     },
     "execution_count": 93,
     "metadata": {},
     "output_type": "execute_result"
    }
   ],
   "source": [
    "w_x = model.coef_\n",
    "w_x"
   ]
  },
  {
   "cell_type": "code",
   "execution_count": 91,
   "id": "82ea3345",
   "metadata": {},
   "outputs": [
    {
     "data": {
      "text/plain": [
       "0.8"
      ]
     },
     "execution_count": 91,
     "metadata": {},
     "output_type": "execute_result"
    }
   ],
   "source": [
    "model.score(Xbar, y)"
   ]
  },
  {
   "cell_type": "code",
   "execution_count": 96,
   "id": "fa1482dd",
   "metadata": {},
   "outputs": [
    {
     "data": {
      "image/png": "[encoded data removed]",
      "text/plain": [
       "<Figure size 432x288 with 1 Axes>"
      ]
     },
     "metadata": {
      "needs_background": "light"
     },
     "output_type": "display_data"
    }
   ],
   "source": [
    "X0 = X[1, np.where(y == 0)][0]\n",
    "y0 = y[np.where(y == 0)]\n",
    "X1 = X[1, np.where(y == 1)][0]\n",
    "y1 = y[np.where(y == 1)]\n",
    "\n",
    "plt.plot(X0, y0, 'ro', markersize = 2)\n",
    "plt.plot(X1, y1, 'bs', markersize = 2)\n",
    "\n",
    "xx = np.linspace(0, 6, 1000)\n",
    "w0 = w_x[0][0]\n",
    "w1 = w_x[0][1]\n",
    "threshold = -w0/w1\n",
    "yy = w0 + w1*xx\n",
    "plt.axis([-2, 8, -1, 2])\n",
    "plt.plot(xx, yy, 'g-', linewidth = 2)\n",
    "plt.plot(threshold, .5, 'y^', markersize = 8)\n",
    "plt.xlabel('studying hours')\n",
    "plt.ylabel('predicted probability of pass')\n",
    "plt.show()"
   ]
  },
  {
   "cell_type": "code",
   "execution_count": 52,
   "id": "a47b8201",
   "metadata": {},
   "outputs": [
    {
     "data": {
      "text/plain": [
       "(150, 4)"
      ]
     },
     "execution_count": 52,
     "metadata": {},
     "output_type": "execute_result"
    }
   ],
   "source": []
  },
  {
   "cell_type": "code",
   "execution_count": 53,
   "id": "de3d7ad1",
   "metadata": {},
   "outputs": [
    {
     "data": {
      "text/plain": [
       "(150,)"
      ]
     },
     "execution_count": 53,
     "metadata": {},
     "output_type": "execute_result"
    }
   ],
   "source": []
  },
  {
   "cell_type": "code",
   "execution_count": 64,
   "id": "aa17c067",
   "metadata": {},
   "outputs": [
    {
     "data": {
      "text/plain": [
       "array([0, 0, 0, 0, 0, 0, 0, 0, 0, 0, 0, 0, 0, 0, 0, 0, 0, 0, 0, 0, 0, 0,\n",
       "       0, 0, 0, 0, 0, 0, 0, 0, 0, 0, 0, 0, 0, 0, 0, 0, 0, 0, 0, 0, 0, 0,\n",
       "       0, 0, 0, 0, 0, 0, 1, 1, 1, 1, 1, 1, 1, 1, 1, 1, 1, 1, 1, 1, 1, 1,\n",
       "       1, 1, 1, 1, 1, 1, 1, 1, 1, 1, 1, 1, 1, 1, 1, 1, 1, 1, 1, 1, 1, 1,\n",
       "       1, 1, 1, 1, 1, 1, 1, 1, 1, 1, 1, 1, 2, 2, 2, 2, 2, 2, 2, 2, 2, 2,\n",
       "       2, 2, 2, 2, 2, 2, 2, 2, 2, 2, 2, 2, 2, 2, 2, 2, 2, 2, 2, 2, 2, 2,\n",
       "       2, 2, 2, 2, 2, 2, 2, 2, 2, 2, 2, 2, 2, 2, 2, 2, 2, 2])"
      ]
     },
     "execution_count": 64,
     "metadata": {},
     "output_type": "execute_result"
    }
   ],
   "source": []
  },
  {
   "cell_type": "code",
   "execution_count": null,
   "id": "10e58a09",
   "metadata": {},
   "outputs": [],
   "source": []
  }
 ],
 "metadata": {
  "kernelspec": {
   "display_name": "Python 3 (ipykernel)",
   "language": "python",
   "name": "python3"
  },
  "language_info": {
   "codemirror_mode": {
    "name": "ipython",
    "version": 3
   },
   "file_extension": ".py",
   "mimetype": "text/x-python",
   "name": "python",
   "nbconvert_exporter": "python",
   "pygments_lexer": "ipython3",
   "version": "3.10.1"
  }
 },
 "nbformat": 4,
 "nbformat_minor": 5
}
