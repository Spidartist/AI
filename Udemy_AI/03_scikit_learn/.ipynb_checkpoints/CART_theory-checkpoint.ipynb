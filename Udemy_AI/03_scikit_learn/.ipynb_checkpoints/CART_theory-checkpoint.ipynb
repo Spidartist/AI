{
 "cells": [
  {
   "cell_type": "code",
   "execution_count": 1,
   "metadata": {},
   "outputs": [
    {
     "name": "stderr",
     "output_type": "stream",
     "text": [
      "C:\\ProgramData\\Anaconda3\\lib\\site-packages\\numpy\\_distributor_init.py:32: UserWarning: loaded more than 1 DLL from .libs:\n",
      "C:\\ProgramData\\Anaconda3\\lib\\site-packages\\numpy\\.libs\\libopenblas.PYQHXLVVQ7VESDPUVUADXEVJOBGHJPAY.gfortran-win_amd64.dll\n",
      "C:\\ProgramData\\Anaconda3\\lib\\site-packages\\numpy\\.libs\\libopenblas.WCDJNK7YVMPZQ2ME2ZZHJJRJ3JIKNDB7.gfortran-win_amd64.dll\n",
      "  stacklevel=1)\n"
     ]
    }
   ],
   "source": [
    "# pip install dataclasses\n",
    "# from dataclasses import dataclass\n",
    "\n",
    "from sklearn.datasets import load_boston\n",
    "from sklearn.model_selection import train_test_split\n",
    "import pandas as pd\n",
    "import numpy as np\n",
    "import matplotlib.pyplot as plt\n",
    "import pdb\n",
    "%matplotlib inline"
   ]
  },
  {
   "cell_type": "code",
   "execution_count": 2,
   "metadata": {},
   "outputs": [],
   "source": [
    "data = load_boston() #import data\n",
    "X = pd.DataFrame(data[\"data\"], columns=data[\"feature_names\"])  #lay ra features\n",
    "y = pd.DataFrame(data[\"target\"], columns=[\"MEDV\"])  #lay ra y_true\n",
    "df = pd.concat([X, y], axis=1)  #ghep X va Y theo chieu ngang\n",
    "df_train, df_test = train_test_split(df, test_size=0.1, random_state=1) #tach bo du lieu ra thanh tap train va tap test"
   ]
  },
  {
   "cell_type": "code",
   "execution_count": 3,
   "metadata": {},
   "outputs": [
    {
     "name": "stdout",
     "output_type": "stream",
     "text": [
      "(455, 14)\n"
     ]
    },
    {
     "data": {
      "text/html": [
       "<div>\n",
       "<style scoped>\n",
       "    .dataframe tbody tr th:only-of-type {\n",
       "        vertical-align: middle;\n",
       "    }\n",
       "\n",
       "    .dataframe tbody tr th {\n",
       "        vertical-align: top;\n",
       "    }\n",
       "\n",
       "    .dataframe thead th {\n",
       "        text-align: right;\n",
       "    }\n",
       "</style>\n",
       "<table border=\"1\" class=\"dataframe\">\n",
       "  <thead>\n",
       "    <tr style=\"text-align: right;\">\n",
       "      <th></th>\n",
       "      <th>CRIM</th>\n",
       "      <th>ZN</th>\n",
       "      <th>INDUS</th>\n",
       "      <th>CHAS</th>\n",
       "      <th>NOX</th>\n",
       "      <th>RM</th>\n",
       "      <th>AGE</th>\n",
       "      <th>DIS</th>\n",
       "      <th>RAD</th>\n",
       "      <th>TAX</th>\n",
       "      <th>PTRATIO</th>\n",
       "      <th>B</th>\n",
       "      <th>LSTAT</th>\n",
       "      <th>MEDV</th>\n",
       "    </tr>\n",
       "  </thead>\n",
       "  <tbody>\n",
       "    <tr>\n",
       "      <th>242</th>\n",
       "      <td>0.10290</td>\n",
       "      <td>30.0</td>\n",
       "      <td>4.93</td>\n",
       "      <td>0.0</td>\n",
       "      <td>0.428</td>\n",
       "      <td>6.358</td>\n",
       "      <td>52.9</td>\n",
       "      <td>7.0355</td>\n",
       "      <td>6.0</td>\n",
       "      <td>300.0</td>\n",
       "      <td>16.6</td>\n",
       "      <td>372.75</td>\n",
       "      <td>11.22</td>\n",
       "      <td>22.2</td>\n",
       "    </tr>\n",
       "    <tr>\n",
       "      <th>5</th>\n",
       "      <td>0.02985</td>\n",
       "      <td>0.0</td>\n",
       "      <td>2.18</td>\n",
       "      <td>0.0</td>\n",
       "      <td>0.458</td>\n",
       "      <td>6.430</td>\n",
       "      <td>58.7</td>\n",
       "      <td>6.0622</td>\n",
       "      <td>3.0</td>\n",
       "      <td>222.0</td>\n",
       "      <td>18.7</td>\n",
       "      <td>394.12</td>\n",
       "      <td>5.21</td>\n",
       "      <td>28.7</td>\n",
       "    </tr>\n",
       "    <tr>\n",
       "      <th>168</th>\n",
       "      <td>2.30040</td>\n",
       "      <td>0.0</td>\n",
       "      <td>19.58</td>\n",
       "      <td>0.0</td>\n",
       "      <td>0.605</td>\n",
       "      <td>6.319</td>\n",
       "      <td>96.1</td>\n",
       "      <td>2.1000</td>\n",
       "      <td>5.0</td>\n",
       "      <td>403.0</td>\n",
       "      <td>14.7</td>\n",
       "      <td>297.09</td>\n",
       "      <td>11.10</td>\n",
       "      <td>23.8</td>\n",
       "    </tr>\n",
       "    <tr>\n",
       "      <th>490</th>\n",
       "      <td>0.20746</td>\n",
       "      <td>0.0</td>\n",
       "      <td>27.74</td>\n",
       "      <td>0.0</td>\n",
       "      <td>0.609</td>\n",
       "      <td>5.093</td>\n",
       "      <td>98.0</td>\n",
       "      <td>1.8226</td>\n",
       "      <td>4.0</td>\n",
       "      <td>711.0</td>\n",
       "      <td>20.1</td>\n",
       "      <td>318.43</td>\n",
       "      <td>29.68</td>\n",
       "      <td>8.1</td>\n",
       "    </tr>\n",
       "    <tr>\n",
       "      <th>62</th>\n",
       "      <td>0.11027</td>\n",
       "      <td>25.0</td>\n",
       "      <td>5.13</td>\n",
       "      <td>0.0</td>\n",
       "      <td>0.453</td>\n",
       "      <td>6.456</td>\n",
       "      <td>67.8</td>\n",
       "      <td>7.2255</td>\n",
       "      <td>8.0</td>\n",
       "      <td>284.0</td>\n",
       "      <td>19.7</td>\n",
       "      <td>396.90</td>\n",
       "      <td>6.73</td>\n",
       "      <td>22.2</td>\n",
       "    </tr>\n",
       "  </tbody>\n",
       "</table>\n",
       "</div>"
      ],
      "text/plain": [
       "        CRIM    ZN  INDUS  CHAS    NOX     RM   AGE     DIS  RAD    TAX  \\\n",
       "242  0.10290  30.0   4.93   0.0  0.428  6.358  52.9  7.0355  6.0  300.0   \n",
       "5    0.02985   0.0   2.18   0.0  0.458  6.430  58.7  6.0622  3.0  222.0   \n",
       "168  2.30040   0.0  19.58   0.0  0.605  6.319  96.1  2.1000  5.0  403.0   \n",
       "490  0.20746   0.0  27.74   0.0  0.609  5.093  98.0  1.8226  4.0  711.0   \n",
       "62   0.11027  25.0   5.13   0.0  0.453  6.456  67.8  7.2255  8.0  284.0   \n",
       "\n",
       "     PTRATIO       B  LSTAT  MEDV  \n",
       "242     16.6  372.75  11.22  22.2  \n",
       "5       18.7  394.12   5.21  28.7  \n",
       "168     14.7  297.09  11.10  23.8  \n",
       "490     20.1  318.43  29.68   8.1  \n",
       "62      19.7  396.90   6.73  22.2  "
      ]
     },
     "execution_count": 3,
     "metadata": {},
     "output_type": "execute_result"
    }
   ],
   "source": [
    "print(df_train.shape)\n",
    "df_train.head()"
   ]
  },
  {
   "cell_type": "markdown",
   "metadata": {},
   "source": [
    "## Generate Tree"
   ]
  },
  {
   "cell_type": "code",
   "execution_count": 4,
   "metadata": {},
   "outputs": [],
   "source": [
    "def sum_squared_error(y_true, y_pred):    #tinh SSE\n",
    "    if len(y_true) > 0:\n",
    "        return np.square(y_true - y_pred).sum()   #tra ve tong binh phuong\n",
    "    else:\n",
    "        return 0"
   ]
  },
  {
   "cell_type": "code",
   "execution_count": 5,
   "metadata": {},
   "outputs": [
    {
     "data": {
      "text/html": [
       "<div>\n",
       "<style scoped>\n",
       "    .dataframe tbody tr th:only-of-type {\n",
       "        vertical-align: middle;\n",
       "    }\n",
       "\n",
       "    .dataframe tbody tr th {\n",
       "        vertical-align: top;\n",
       "    }\n",
       "\n",
       "    .dataframe thead th {\n",
       "        text-align: right;\n",
       "    }\n",
       "</style>\n",
       "<table border=\"1\" class=\"dataframe\">\n",
       "  <thead>\n",
       "    <tr style=\"text-align: right;\">\n",
       "      <th></th>\n",
       "      <th>CRIM</th>\n",
       "      <th>ZN</th>\n",
       "      <th>INDUS</th>\n",
       "      <th>CHAS</th>\n",
       "      <th>NOX</th>\n",
       "      <th>RM</th>\n",
       "      <th>AGE</th>\n",
       "      <th>DIS</th>\n",
       "      <th>RAD</th>\n",
       "      <th>TAX</th>\n",
       "      <th>PTRATIO</th>\n",
       "      <th>B</th>\n",
       "      <th>LSTAT</th>\n",
       "      <th>MEDV</th>\n",
       "    </tr>\n",
       "  </thead>\n",
       "  <tbody>\n",
       "    <tr>\n",
       "      <th>242</th>\n",
       "      <td>0.10290</td>\n",
       "      <td>30.0</td>\n",
       "      <td>4.93</td>\n",
       "      <td>0.0</td>\n",
       "      <td>0.428</td>\n",
       "      <td>6.358</td>\n",
       "      <td>52.9</td>\n",
       "      <td>7.0355</td>\n",
       "      <td>6.0</td>\n",
       "      <td>300.0</td>\n",
       "      <td>16.6</td>\n",
       "      <td>372.75</td>\n",
       "      <td>11.22</td>\n",
       "      <td>22.2</td>\n",
       "    </tr>\n",
       "    <tr>\n",
       "      <th>5</th>\n",
       "      <td>0.02985</td>\n",
       "      <td>0.0</td>\n",
       "      <td>2.18</td>\n",
       "      <td>0.0</td>\n",
       "      <td>0.458</td>\n",
       "      <td>6.430</td>\n",
       "      <td>58.7</td>\n",
       "      <td>6.0622</td>\n",
       "      <td>3.0</td>\n",
       "      <td>222.0</td>\n",
       "      <td>18.7</td>\n",
       "      <td>394.12</td>\n",
       "      <td>5.21</td>\n",
       "      <td>28.7</td>\n",
       "    </tr>\n",
       "    <tr>\n",
       "      <th>168</th>\n",
       "      <td>2.30040</td>\n",
       "      <td>0.0</td>\n",
       "      <td>19.58</td>\n",
       "      <td>0.0</td>\n",
       "      <td>0.605</td>\n",
       "      <td>6.319</td>\n",
       "      <td>96.1</td>\n",
       "      <td>2.1000</td>\n",
       "      <td>5.0</td>\n",
       "      <td>403.0</td>\n",
       "      <td>14.7</td>\n",
       "      <td>297.09</td>\n",
       "      <td>11.10</td>\n",
       "      <td>23.8</td>\n",
       "    </tr>\n",
       "    <tr>\n",
       "      <th>490</th>\n",
       "      <td>0.20746</td>\n",
       "      <td>0.0</td>\n",
       "      <td>27.74</td>\n",
       "      <td>0.0</td>\n",
       "      <td>0.609</td>\n",
       "      <td>5.093</td>\n",
       "      <td>98.0</td>\n",
       "      <td>1.8226</td>\n",
       "      <td>4.0</td>\n",
       "      <td>711.0</td>\n",
       "      <td>20.1</td>\n",
       "      <td>318.43</td>\n",
       "      <td>29.68</td>\n",
       "      <td>8.1</td>\n",
       "    </tr>\n",
       "    <tr>\n",
       "      <th>62</th>\n",
       "      <td>0.11027</td>\n",
       "      <td>25.0</td>\n",
       "      <td>5.13</td>\n",
       "      <td>0.0</td>\n",
       "      <td>0.453</td>\n",
       "      <td>6.456</td>\n",
       "      <td>67.8</td>\n",
       "      <td>7.2255</td>\n",
       "      <td>8.0</td>\n",
       "      <td>284.0</td>\n",
       "      <td>19.7</td>\n",
       "      <td>396.90</td>\n",
       "      <td>6.73</td>\n",
       "      <td>22.2</td>\n",
       "    </tr>\n",
       "    <tr>\n",
       "      <th>...</th>\n",
       "      <td>...</td>\n",
       "      <td>...</td>\n",
       "      <td>...</td>\n",
       "      <td>...</td>\n",
       "      <td>...</td>\n",
       "      <td>...</td>\n",
       "      <td>...</td>\n",
       "      <td>...</td>\n",
       "      <td>...</td>\n",
       "      <td>...</td>\n",
       "      <td>...</td>\n",
       "      <td>...</td>\n",
       "      <td>...</td>\n",
       "      <td>...</td>\n",
       "    </tr>\n",
       "    <tr>\n",
       "      <th>255</th>\n",
       "      <td>0.03548</td>\n",
       "      <td>80.0</td>\n",
       "      <td>3.64</td>\n",
       "      <td>0.0</td>\n",
       "      <td>0.392</td>\n",
       "      <td>5.876</td>\n",
       "      <td>19.1</td>\n",
       "      <td>9.2203</td>\n",
       "      <td>1.0</td>\n",
       "      <td>315.0</td>\n",
       "      <td>16.4</td>\n",
       "      <td>395.18</td>\n",
       "      <td>9.25</td>\n",
       "      <td>20.9</td>\n",
       "    </tr>\n",
       "    <tr>\n",
       "      <th>72</th>\n",
       "      <td>0.09164</td>\n",
       "      <td>0.0</td>\n",
       "      <td>10.81</td>\n",
       "      <td>0.0</td>\n",
       "      <td>0.413</td>\n",
       "      <td>6.065</td>\n",
       "      <td>7.8</td>\n",
       "      <td>5.2873</td>\n",
       "      <td>4.0</td>\n",
       "      <td>305.0</td>\n",
       "      <td>19.2</td>\n",
       "      <td>390.91</td>\n",
       "      <td>5.52</td>\n",
       "      <td>22.8</td>\n",
       "    </tr>\n",
       "    <tr>\n",
       "      <th>396</th>\n",
       "      <td>5.87205</td>\n",
       "      <td>0.0</td>\n",
       "      <td>18.10</td>\n",
       "      <td>0.0</td>\n",
       "      <td>0.693</td>\n",
       "      <td>6.405</td>\n",
       "      <td>96.0</td>\n",
       "      <td>1.6768</td>\n",
       "      <td>24.0</td>\n",
       "      <td>666.0</td>\n",
       "      <td>20.2</td>\n",
       "      <td>396.90</td>\n",
       "      <td>19.37</td>\n",
       "      <td>12.5</td>\n",
       "    </tr>\n",
       "    <tr>\n",
       "      <th>235</th>\n",
       "      <td>0.33045</td>\n",
       "      <td>0.0</td>\n",
       "      <td>6.20</td>\n",
       "      <td>0.0</td>\n",
       "      <td>0.507</td>\n",
       "      <td>6.086</td>\n",
       "      <td>61.5</td>\n",
       "      <td>3.6519</td>\n",
       "      <td>8.0</td>\n",
       "      <td>307.0</td>\n",
       "      <td>17.4</td>\n",
       "      <td>376.75</td>\n",
       "      <td>10.88</td>\n",
       "      <td>24.0</td>\n",
       "    </tr>\n",
       "    <tr>\n",
       "      <th>37</th>\n",
       "      <td>0.08014</td>\n",
       "      <td>0.0</td>\n",
       "      <td>5.96</td>\n",
       "      <td>0.0</td>\n",
       "      <td>0.499</td>\n",
       "      <td>5.850</td>\n",
       "      <td>41.5</td>\n",
       "      <td>3.9342</td>\n",
       "      <td>5.0</td>\n",
       "      <td>279.0</td>\n",
       "      <td>19.2</td>\n",
       "      <td>396.90</td>\n",
       "      <td>8.77</td>\n",
       "      <td>21.0</td>\n",
       "    </tr>\n",
       "  </tbody>\n",
       "</table>\n",
       "<p>455 rows × 14 columns</p>\n",
       "</div>"
      ],
      "text/plain": [
       "        CRIM    ZN  INDUS  CHAS    NOX     RM   AGE     DIS   RAD    TAX  \\\n",
       "242  0.10290  30.0   4.93   0.0  0.428  6.358  52.9  7.0355   6.0  300.0   \n",
       "5    0.02985   0.0   2.18   0.0  0.458  6.430  58.7  6.0622   3.0  222.0   \n",
       "168  2.30040   0.0  19.58   0.0  0.605  6.319  96.1  2.1000   5.0  403.0   \n",
       "490  0.20746   0.0  27.74   0.0  0.609  5.093  98.0  1.8226   4.0  711.0   \n",
       "62   0.11027  25.0   5.13   0.0  0.453  6.456  67.8  7.2255   8.0  284.0   \n",
       "..       ...   ...    ...   ...    ...    ...   ...     ...   ...    ...   \n",
       "255  0.03548  80.0   3.64   0.0  0.392  5.876  19.1  9.2203   1.0  315.0   \n",
       "72   0.09164   0.0  10.81   0.0  0.413  6.065   7.8  5.2873   4.0  305.0   \n",
       "396  5.87205   0.0  18.10   0.0  0.693  6.405  96.0  1.6768  24.0  666.0   \n",
       "235  0.33045   0.0   6.20   0.0  0.507  6.086  61.5  3.6519   8.0  307.0   \n",
       "37   0.08014   0.0   5.96   0.0  0.499  5.850  41.5  3.9342   5.0  279.0   \n",
       "\n",
       "     PTRATIO       B  LSTAT  MEDV  \n",
       "242     16.6  372.75  11.22  22.2  \n",
       "5       18.7  394.12   5.21  28.7  \n",
       "168     14.7  297.09  11.10  23.8  \n",
       "490     20.1  318.43  29.68   8.1  \n",
       "62      19.7  396.90   6.73  22.2  \n",
       "..       ...     ...    ...   ...  \n",
       "255     16.4  395.18   9.25  20.9  \n",
       "72      19.2  390.91   5.52  22.8  \n",
       "396     20.2  396.90  19.37  12.5  \n",
       "235     17.4  376.75  10.88  24.0  \n",
       "37      19.2  396.90   8.77  21.0  \n",
       "\n",
       "[455 rows x 14 columns]"
      ]
     },
     "execution_count": 5,
     "metadata": {},
     "output_type": "execute_result"
    }
   ],
   "source": [
    "df_train"
   ]
  },
  {
   "cell_type": "code",
   "execution_count": 6,
   "metadata": {},
   "outputs": [
    {
     "data": {
      "image/png": "[encoded data removed]",
      "text/plain": [
       "<Figure size 432x288 with 1 Axes>"
      ]
     },
     "metadata": {
      "needs_background": "light"
     },
     "output_type": "display_data"
    }
   ],
   "source": [
    "plt.hist(df[\"MEDV\"],60)\n",
    "plt.show()"
   ]
  },
  {
   "cell_type": "code",
   "execution_count": 7,
   "metadata": {},
   "outputs": [
    {
     "name": "stdout",
     "output_type": "stream",
     "text": [
      "(453,)\n",
      "(26,)\n",
      "(74,)\n",
      "(2,)\n",
      "(78,)\n",
      "(408,)\n",
      "(331,)\n",
      "(377,)\n",
      "(9,)\n",
      "(64,)\n",
      "(46,)\n",
      "(320,)\n",
      "(409,)\n"
     ]
    }
   ],
   "source": [
    "for var in df_train.columns[:-1]:\n",
    "    var_vals = df_train[var].unique()\n",
    "    thresh = np.sort(var_vals)\n",
    "    print(thresh.shape)"
   ]
  },
  {
   "cell_type": "code",
   "execution_count": 8,
   "metadata": {},
   "outputs": [
    {
     "data": {
      "text/plain": [
       "5      28.7\n",
       "233    48.3\n",
       "179    37.2\n",
       "232    41.7\n",
       "370    50.0\n",
       "       ... \n",
       "3      33.4\n",
       "252    29.6\n",
       "281    35.4\n",
       "237    31.5\n",
       "203    48.5\n",
       "Name: MEDV, Length: 63, dtype: float64"
      ]
     },
     "execution_count": 8,
     "metadata": {},
     "output_type": "execute_result"
    }
   ],
   "source": [
    "idx = df[var] <= 5.21\n",
    "df_train.loc[idx, \"MEDV\"]\n"
   ]
  },
  {
   "cell_type": "code",
   "execution_count": 9,
   "metadata": {
    "scrolled": true
   },
   "outputs": [
    {
     "name": "stdout",
     "output_type": "stream",
     "text": [
      "> \u001b[1;32m<ipython-input-9-2b6d998217c0>\u001b[0m(17)\u001b[0;36m<module>\u001b[1;34m()\u001b[0m\n",
      "\u001b[1;32m     15 \u001b[1;33m    \u001b[0mpdb\u001b[0m\u001b[1;33m.\u001b[0m\u001b[0mset_trace\u001b[0m\u001b[1;33m(\u001b[0m\u001b[1;33m)\u001b[0m\u001b[1;33m\u001b[0m\u001b[1;33m\u001b[0m\u001b[0m\n",
      "\u001b[0m\u001b[1;32m     16 \u001b[1;33m    \u001b[1;31m#thresh[idx], sse.min(), l_val[idx], r_val[idx]\u001b[0m\u001b[1;33m\u001b[0m\u001b[1;33m\u001b[0m\u001b[1;33m\u001b[0m\u001b[0m\n",
      "\u001b[0m\u001b[1;32m---> 17 \u001b[1;33m    \u001b[0mplt\u001b[0m\u001b[1;33m.\u001b[0m\u001b[0mplot\u001b[0m\u001b[1;33m(\u001b[0m\u001b[0mthresh\u001b[0m\u001b[1;33m,\u001b[0m \u001b[0msse\u001b[0m\u001b[1;33m)\u001b[0m\u001b[1;33m\u001b[0m\u001b[1;33m\u001b[0m\u001b[0m\n",
      "\u001b[0m\u001b[1;32m     18 \u001b[1;33m    \u001b[0mplt\u001b[0m\u001b[1;33m.\u001b[0m\u001b[0mplot\u001b[0m\u001b[1;33m\u001b[0m\u001b[1;33m\u001b[0m\u001b[0m\n",
      "\u001b[0m\u001b[1;32m     19 \u001b[1;33m    \u001b[0mplt\u001b[0m\u001b[1;33m.\u001b[0m\u001b[0myscale\u001b[0m\u001b[1;33m(\u001b[0m\u001b[1;34m\"log\"\u001b[0m\u001b[1;33m)\u001b[0m\u001b[1;33m\u001b[0m\u001b[1;33m\u001b[0m\u001b[0m\n",
      "\u001b[0m\n",
      "ipdb> exit\n"
     ]
    },
    {
     "ename": "BdbQuit",
     "evalue": "",
     "output_type": "error",
     "traceback": [
      "\u001b[1;31m---------------------------------------------------------------------------\u001b[0m",
      "\u001b[1;31mBdbQuit\u001b[0m                                   Traceback (most recent call last)",
      "\u001b[1;32m<ipython-input-9-2b6d998217c0>\u001b[0m in \u001b[0;36m<module>\u001b[1;34m\u001b[0m\n\u001b[0;32m     15\u001b[0m     \u001b[0mpdb\u001b[0m\u001b[1;33m.\u001b[0m\u001b[0mset_trace\u001b[0m\u001b[1;33m(\u001b[0m\u001b[1;33m)\u001b[0m\u001b[1;33m\u001b[0m\u001b[1;33m\u001b[0m\u001b[0m\n\u001b[0;32m     16\u001b[0m     \u001b[1;31m#thresh[idx], sse.min(), l_val[idx], r_val[idx]\u001b[0m\u001b[1;33m\u001b[0m\u001b[1;33m\u001b[0m\u001b[1;33m\u001b[0m\u001b[0m\n\u001b[1;32m---> 17\u001b[1;33m     \u001b[0mplt\u001b[0m\u001b[1;33m.\u001b[0m\u001b[0mplot\u001b[0m\u001b[1;33m(\u001b[0m\u001b[0mthresh\u001b[0m\u001b[1;33m,\u001b[0m \u001b[0msse\u001b[0m\u001b[1;33m)\u001b[0m\u001b[1;33m\u001b[0m\u001b[1;33m\u001b[0m\u001b[0m\n\u001b[0m\u001b[0;32m     18\u001b[0m     \u001b[0mplt\u001b[0m\u001b[1;33m.\u001b[0m\u001b[0mplot\u001b[0m\u001b[1;33m\u001b[0m\u001b[1;33m\u001b[0m\u001b[0m\n\u001b[0;32m     19\u001b[0m     \u001b[0mplt\u001b[0m\u001b[1;33m.\u001b[0m\u001b[0myscale\u001b[0m\u001b[1;33m(\u001b[0m\u001b[1;34m\"log\"\u001b[0m\u001b[1;33m)\u001b[0m\u001b[1;33m\u001b[0m\u001b[1;33m\u001b[0m\u001b[0m\n",
      "\u001b[1;32m<ipython-input-9-2b6d998217c0>\u001b[0m in \u001b[0;36m<module>\u001b[1;34m\u001b[0m\n\u001b[0;32m     15\u001b[0m     \u001b[0mpdb\u001b[0m\u001b[1;33m.\u001b[0m\u001b[0mset_trace\u001b[0m\u001b[1;33m(\u001b[0m\u001b[1;33m)\u001b[0m\u001b[1;33m\u001b[0m\u001b[1;33m\u001b[0m\u001b[0m\n\u001b[0;32m     16\u001b[0m     \u001b[1;31m#thresh[idx], sse.min(), l_val[idx], r_val[idx]\u001b[0m\u001b[1;33m\u001b[0m\u001b[1;33m\u001b[0m\u001b[1;33m\u001b[0m\u001b[0m\n\u001b[1;32m---> 17\u001b[1;33m     \u001b[0mplt\u001b[0m\u001b[1;33m.\u001b[0m\u001b[0mplot\u001b[0m\u001b[1;33m(\u001b[0m\u001b[0mthresh\u001b[0m\u001b[1;33m,\u001b[0m \u001b[0msse\u001b[0m\u001b[1;33m)\u001b[0m\u001b[1;33m\u001b[0m\u001b[1;33m\u001b[0m\u001b[0m\n\u001b[0m\u001b[0;32m     18\u001b[0m     \u001b[0mplt\u001b[0m\u001b[1;33m.\u001b[0m\u001b[0mplot\u001b[0m\u001b[1;33m\u001b[0m\u001b[1;33m\u001b[0m\u001b[0m\n\u001b[0;32m     19\u001b[0m     \u001b[0mplt\u001b[0m\u001b[1;33m.\u001b[0m\u001b[0myscale\u001b[0m\u001b[1;33m(\u001b[0m\u001b[1;34m\"log\"\u001b[0m\u001b[1;33m)\u001b[0m\u001b[1;33m\u001b[0m\u001b[1;33m\u001b[0m\u001b[0m\n",
      "\u001b[1;32mC:\\ProgramData\\Anaconda3\\lib\\bdb.py\u001b[0m in \u001b[0;36mtrace_dispatch\u001b[1;34m(self, frame, event, arg)\u001b[0m\n\u001b[0;32m     49\u001b[0m             \u001b[1;32mreturn\u001b[0m \u001b[1;31m# None\u001b[0m\u001b[1;33m\u001b[0m\u001b[1;33m\u001b[0m\u001b[0m\n\u001b[0;32m     50\u001b[0m         \u001b[1;32mif\u001b[0m \u001b[0mevent\u001b[0m \u001b[1;33m==\u001b[0m \u001b[1;34m'line'\u001b[0m\u001b[1;33m:\u001b[0m\u001b[1;33m\u001b[0m\u001b[1;33m\u001b[0m\u001b[0m\n\u001b[1;32m---> 51\u001b[1;33m             \u001b[1;32mreturn\u001b[0m \u001b[0mself\u001b[0m\u001b[1;33m.\u001b[0m\u001b[0mdispatch_line\u001b[0m\u001b[1;33m(\u001b[0m\u001b[0mframe\u001b[0m\u001b[1;33m)\u001b[0m\u001b[1;33m\u001b[0m\u001b[1;33m\u001b[0m\u001b[0m\n\u001b[0m\u001b[0;32m     52\u001b[0m         \u001b[1;32mif\u001b[0m \u001b[0mevent\u001b[0m \u001b[1;33m==\u001b[0m \u001b[1;34m'call'\u001b[0m\u001b[1;33m:\u001b[0m\u001b[1;33m\u001b[0m\u001b[1;33m\u001b[0m\u001b[0m\n\u001b[0;32m     53\u001b[0m             \u001b[1;32mreturn\u001b[0m \u001b[0mself\u001b[0m\u001b[1;33m.\u001b[0m\u001b[0mdispatch_call\u001b[0m\u001b[1;33m(\u001b[0m\u001b[0mframe\u001b[0m\u001b[1;33m,\u001b[0m \u001b[0marg\u001b[0m\u001b[1;33m)\u001b[0m\u001b[1;33m\u001b[0m\u001b[1;33m\u001b[0m\u001b[0m\n",
      "\u001b[1;32mC:\\ProgramData\\Anaconda3\\lib\\bdb.py\u001b[0m in \u001b[0;36mdispatch_line\u001b[1;34m(self, frame)\u001b[0m\n\u001b[0;32m     68\u001b[0m         \u001b[1;32mif\u001b[0m \u001b[0mself\u001b[0m\u001b[1;33m.\u001b[0m\u001b[0mstop_here\u001b[0m\u001b[1;33m(\u001b[0m\u001b[0mframe\u001b[0m\u001b[1;33m)\u001b[0m \u001b[1;32mor\u001b[0m \u001b[0mself\u001b[0m\u001b[1;33m.\u001b[0m\u001b[0mbreak_here\u001b[0m\u001b[1;33m(\u001b[0m\u001b[0mframe\u001b[0m\u001b[1;33m)\u001b[0m\u001b[1;33m:\u001b[0m\u001b[1;33m\u001b[0m\u001b[1;33m\u001b[0m\u001b[0m\n\u001b[0;32m     69\u001b[0m             \u001b[0mself\u001b[0m\u001b[1;33m.\u001b[0m\u001b[0muser_line\u001b[0m\u001b[1;33m(\u001b[0m\u001b[0mframe\u001b[0m\u001b[1;33m)\u001b[0m\u001b[1;33m\u001b[0m\u001b[1;33m\u001b[0m\u001b[0m\n\u001b[1;32m---> 70\u001b[1;33m             \u001b[1;32mif\u001b[0m \u001b[0mself\u001b[0m\u001b[1;33m.\u001b[0m\u001b[0mquitting\u001b[0m\u001b[1;33m:\u001b[0m \u001b[1;32mraise\u001b[0m \u001b[0mBdbQuit\u001b[0m\u001b[1;33m\u001b[0m\u001b[1;33m\u001b[0m\u001b[0m\n\u001b[0m\u001b[0;32m     71\u001b[0m         \u001b[1;32mreturn\u001b[0m \u001b[0mself\u001b[0m\u001b[1;33m.\u001b[0m\u001b[0mtrace_dispatch\u001b[0m\u001b[1;33m\u001b[0m\u001b[1;33m\u001b[0m\u001b[0m\n\u001b[0;32m     72\u001b[0m \u001b[1;33m\u001b[0m\u001b[0m\n",
      "\u001b[1;31mBdbQuit\u001b[0m: "
     ]
    }
   ],
   "source": [
    "for var in df_train.columns[:-1]: #lay tung cot của df_train\n",
    "    var_vals = df_train[var].unique()   #tao ra 1 list de luu tru cac gia tri duy nhat tren tung cot features\n",
    "    thresh = np.sort(var_vals)    #tao ra list thresh de luu tru list var vals da sap xep tu nho den lon\n",
    "#     breakpoint()\n",
    "#     pdb.set_trace()\n",
    "    sse = np.zeros_like(thresh)  #tao ra list 0 sse co kich thuoc bang list thresh \n",
    "    for i, t in enumerate(thresh): #lay index i va gia tri t trong list thresh\n",
    "        idx = df[var] <= t   #so sanh tung gia tri cua feature voi t tuong ung\n",
    "        l_val = df_train.loc[idx, \"MEDV\"].mean() #tinh trung binh cong tai cac gia tri True trong idx\n",
    "        sse_l = sum_squared_error(df_train.loc[idx, \"MEDV\"], l_val)  #tinh sse giua cac gia tri <=t voi l_val\n",
    "        r_val = df_train.loc[~idx, \"MEDV\"].mean() #tinh trung binh cong tai cac gia tri False trong idx\n",
    "        sse_r = sum_squared_error(df_train.loc[~idx, \"MEDV\"], r_val) #tinh sse giua cac gia tri >t voi l_val\n",
    "        sse[i] = sse_l + sse_r   #tinh sse tai tung gia tri unique\n",
    "    idx = sse.argmin()   #tao list gom cac index cua gia tri nho nhat theo tung cot (1 giá trị)\n",
    "    pdb.set_trace()\n",
    "    #thresh[idx], sse.min(), l_val[idx], r_val[idx]\n",
    "    plt.plot(thresh, sse)\n",
    "    plt.plot\n",
    "    plt.yscale(\"log\")\n",
    "    plt.title(var)\n",
    "    plt.show()"
   ]
  },
  {
   "cell_type": "code",
   "execution_count": 10,
   "metadata": {},
   "outputs": [
    {
     "name": "stdout",
     "output_type": "stream",
     "text": [
      "CRIM\n",
      "242    0.10290\n",
      "5      0.02985\n",
      "168    2.30040\n",
      "490    0.20746\n",
      "62     0.11027\n",
      "        ...   \n",
      "255    0.03548\n",
      "72     0.09164\n",
      "396    5.87205\n",
      "235    0.33045\n",
      "37     0.08014\n",
      "Name: CRIM, Length: 455, dtype: float64\n",
      "6.65492 34450.1226854067 24.38732057416272 13.723863636363637\n"
     ]
    }
   ],
   "source": [
    "var_vals = df_train[df_train.columns[0]].unique()\n",
    "print(df_train.columns[0])\n",
    "print(df_train[df_train.columns[0]])\n",
    "thresh = np.sort(var_vals)\n",
    "sse = np.zeros_like(thresh)\n",
    "l_val = np.zeros_like(thresh)\n",
    "r_val = np.zeros_like(thresh)\n",
    "for i, t in enumerate(thresh):\n",
    "    idx = df[var] <= t\n",
    "    l_val[i] = df.loc[idx, df_train.columns[-1]].mean()\n",
    "    sse_l = sum_squared_error(df.loc[idx, df_train.columns[-1]], l_val[i])\n",
    "    r_val[i] = df.loc[~idx, df_train.columns[-1]].mean()\n",
    "    sse_r = sum_squared_error(df.loc[~idx, df_train.columns[-1]], r_val[i])\n",
    "    sse[i] = sse_l + sse_r\n",
    "# pdb.set_trace()\n",
    "idx = sse.argmin()   #tao list gom cac index cua gia tri nho nhat theo tung cot (1 giá trị)\n",
    "print(thresh[idx], sse.min(), l_val[idx], r_val[idx])"
   ]
  },
  {
   "cell_type": "code",
   "execution_count": 11,
   "metadata": {},
   "outputs": [],
   "source": [
    "def get_thresh_per_var(df, var, y_col): #co tac dung tinh sse nhu tren nhung viet thanh ham\n",
    "    var_vals = df[var].unique()\n",
    "    thresh = np.sort(var_vals)\n",
    "    sse = np.zeros_like(thresh)\n",
    "    l_val = np.zeros_like(thresh)\n",
    "    r_val = np.zeros_like(thresh)\n",
    "    for i, t in enumerate(thresh):\n",
    "        idx = df[var] <= t\n",
    "        l_val[i] = df.loc[idx, y_col].mean()\n",
    "        sse_l = sum_squared_error(df.loc[idx, y_col], l_val[i])\n",
    "        r_val[i] = df.loc[~idx, y_col].mean()\n",
    "        sse_r = sum_squared_error(df.loc[~idx, y_col], r_val[i])\n",
    "        sse[i] = sse_l + sse_r\n",
    "#     pdb.set_trace()\n",
    "    idx = sse.argmin()   #tao list gom cac index cua gia tri nho nhat theo tung cot (1 giá trị)\n",
    "    return thresh[idx], sse.min(), l_val[idx], r_val[idx] #tra ve: giá trị nhỏ nhất nho nhat cua thresh, gia tri sse nho nhat,\n",
    "                                                                            #giá trị nhỏ nhất của l_val, r_val\n",
    "\n",
    "def get_thresh(df, y_col):\n",
    "    best_sse = float(\"inf\")   #khoi tao best sse la duong vo cung\n",
    "    for col in df.columns:   #lay tung cot trong dataframe\n",
    "        if col == y_col:   #neu lay nham cot y_col thi bo qua \n",
    "            continue\n",
    "        t, sse, l_val, r_val = get_thresh_per_var(df, col, y_col)  #chay ham get_thresh_per_var va tra ve 4 gtri qua ham\n",
    "        if sse < best_sse:      #neu sse nhan duoc nho hon best_sse thi gan cac gia tri best bang gia tri co sse nho hon\n",
    "            best_sse = sse\n",
    "            best_col = col\n",
    "            best_thresh = t\n",
    "            best_l_val = l_val\n",
    "            best_r_val = r_val\n",
    "            \n",
    "    return best_col, best_thresh, best_l_val, best_r_val   #tra ve cac gia tri best\n",
    "\n",
    "class Node:    #khoi tao 1 Node co 3 phan ben trong tuong tu struct cua C\n",
    "    def __init__(self, val):\n",
    "        self.val = val\n",
    "        self.left = None\n",
    "        self.right = None\n",
    "\n",
    "def splitting(df, y_col, depth=1):  #khởi tạo giá trị mặc định hiện tại depth = 1\n",
    "    if len(df) < LEAF_THRESH or depth > DEPTH_THRESH:\n",
    "        return None     #neu df co do dai nho hon so leaf??? hoac do dai dang xet lon hon do dai cho phep thi dung (điều kiện dừng đệ quy)\n",
    "    print(df.shape, depth)  #in ra kích thước dataframe và độ sâu hiện tại\n",
    "    best_col, thresh, l_val, r_val = get_thresh(df, y_col) \n",
    "\n",
    "    node = Node((best_col, thresh, l_val, r_val))   #khoi tao Node lưu trữ tuple gom best_col, thresh, l_val, r_val\n",
    "\n",
    "    idx = df[best_col] <= thresh\n",
    "    node.left = splitting(df[idx], y_col, depth+1)\n",
    "    node.right = splitting(df[~idx], y_col, depth+1)\n",
    "    \n",
    "    return node"
   ]
  },
  {
   "cell_type": "code",
   "execution_count": 24,
   "metadata": {},
   "outputs": [
    {
     "data": {
      "text/plain": [
       "Index(['CRIM', 'ZN', 'INDUS', 'CHAS', 'NOX', 'RM', 'AGE', 'DIS', 'RAD', 'TAX',\n",
       "       'PTRATIO', 'B', 'LSTAT', 'MEDV'],\n",
       "      dtype='object')"
      ]
     },
     "execution_count": 24,
     "metadata": {},
     "output_type": "execute_result"
    }
   ],
   "source": [
    "df.columns"
   ]
  },
  {
   "cell_type": "code",
   "execution_count": 21,
   "metadata": {},
   "outputs": [
    {
     "name": "stdout",
     "output_type": "stream",
     "text": [
      "(455, 14) 1\n",
      "(191, 14) 2\n",
      "(165, 14) 3\n",
      "(26, 14) 3\n",
      "(264, 14) 2\n",
      "(136, 14) 3\n",
      "(128, 14) 3\n"
     ]
    }
   ],
   "source": [
    "LEAF_THRESH = 20\n",
    "DEPTH_THRESH = 3\n",
    "tree = splitting(df_train, \"MEDV\")"
   ]
  },
  {
   "cell_type": "code",
   "execution_count": 20,
   "metadata": {},
   "outputs": [
    {
     "name": "stdout",
     "output_type": "stream",
     "text": [
      "('LSTAT', 9.71, 29.738743455497364, 17.354545454545462)\n",
      "\t('RM', 7.42, 27.395757575757568, 44.607692307692304)\n",
      "\t\t('DIS', 1.3567, 50.0, 26.689374999999984)\n",
      "\t\t\t('RM', 6.635, 23.654081632653064, 31.487096774193553)\n",
      "\t\t('CRIM', 2.01019, 45.516000000000005, 21.9)\n",
      "\t\t\t('PTRATIO', 14.9, 48.03846153846154, 42.78333333333333)\n",
      "\t('LSTAT', 16.03, 20.222794117647062, 14.307031249999996)\n",
      "\t\t('B', 100.63, 13.25, 20.54461538461539)\n",
      "\t\t\t('INDUS', 3.97, 25.1625, 20.24180327868853)\n",
      "\t\t('NOX', 0.597, 17.829545454545457, 12.461904761904758)\n",
      "\t\t\t('PTRATIO', 20.9, 18.797142857142855, 14.066666666666668)\n",
      "\t\t\t('CRIM', 9.82349, 14.380392156862746, 9.496969696969696)\n"
     ]
    }
   ],
   "source": [
    "def print_tree(tree, tab=\"\"):     #moi lan goi de quy la lui 1 tab\n",
    "    print(tab + str(tree.val))  #duyet kieu PreOrder\n",
    "    if tree.left:   #neu tree.left khac None\n",
    "        print_tree(tree.left, tab+\"\\t\")\n",
    "    if tree.right:   ##neu tree.right khac None\n",
    "        print_tree(tree.right, tab+\"\\t\")\n",
    "        \n",
    "print_tree(tree)    "
   ]
  },
  {
   "cell_type": "code",
   "execution_count": 14,
   "metadata": {},
   "outputs": [],
   "source": [
    "def predict(row, tree=tree):    #dua du lieu vao theo cot\n",
    "    col, thresh, l_val, r_val = tree.val  #van la duyet theo kieu PreOder\n",
    "    if row[col] <= thresh:      #tai row[col] neu <= thresh thi re nhanh\n",
    "        ans = l_val\n",
    "        if tree.left:           #neu tree.left khac None thi de quy tiep khong thi dung lai\n",
    "            return predict(row, tree.left)\n",
    "        else:\n",
    "            return ans\n",
    "    else:\n",
    "        ans = r_val        #tuong tu nhu vay voi tree.right\n",
    "        if tree.right:\n",
    "            return predict(row, tree.right)\n",
    "        else:\n",
    "            return ans"
   ]
  },
  {
   "cell_type": "code",
   "execution_count": 15,
   "metadata": {},
   "outputs": [],
   "source": [
    "from sklearn.metrics import mean_squared_error"
   ]
  },
  {
   "cell_type": "code",
   "execution_count": 25,
   "metadata": {},
   "outputs": [
    {
     "name": "stdout",
     "output_type": "stream",
     "text": [
      "307    26.689375\n",
      "343    26.689375\n",
      "47     17.829545\n",
      "67     26.689375\n",
      "362    20.544615\n",
      "132    20.544615\n",
      "292    26.689375\n",
      "31     20.544615\n",
      "218    17.829545\n",
      "90     26.689375\n",
      "481    26.689375\n",
      "344    26.689375\n",
      "119    20.544615\n",
      "66     20.544615\n",
      "312    20.544615\n",
      "407    20.544615\n",
      "376    12.461905\n",
      "225    45.516000\n",
      "201    26.689375\n",
      "147    12.461905\n",
      "315    20.544615\n",
      "146    12.461905\n",
      "314    26.689375\n",
      "324    26.689375\n",
      "65     26.689375\n",
      "425    12.461905\n",
      "34     17.829545\n",
      "345    20.544615\n",
      "261    45.516000\n",
      "389    12.461905\n",
      "351    26.689375\n",
      "245    17.829545\n",
      "204    45.516000\n",
      "447    12.461905\n",
      "330    26.689375\n",
      "494    20.544615\n",
      "446    12.461905\n",
      "4      26.689375\n",
      "406    12.461905\n",
      "486    20.544615\n",
      "329    26.689375\n",
      "334    26.689375\n",
      "223    26.689375\n",
      "475    17.829545\n",
      "478    12.461905\n",
      "419    12.461905\n",
      "162    45.516000\n",
      "394    12.461905\n",
      "165    20.544615\n",
      "102    13.250000\n",
      "473    20.544615\n",
      "dtype: float64\n"
     ]
    },
    {
     "data": {
      "text/plain": [
       "15.301130071406932"
      ]
     },
     "execution_count": 25,
     "metadata": {},
     "output_type": "execute_result"
    }
   ],
   "source": [
    "y_pred = df_test.apply(predict, axis=1) #apply ham predict theo tung hang cua df_test\n",
    "# print(df_test)\n",
    "print(y_pred)\n",
    "mean_squared_error(y_pred, df_test[\"MEDV\"])  #tinh mse cua model hien tai"
   ]
  },
  {
   "cell_type": "code",
   "execution_count": 17,
   "metadata": {},
   "outputs": [
    {
     "data": {
      "text/plain": [
       "92.84966098534088"
      ]
     },
     "execution_count": 17,
     "metadata": {},
     "output_type": "execute_result"
    }
   ],
   "source": [
    "mean_squared_error(df_test[\"MEDV\"], df_train[\"MEDV\"].mean()*np.ones_like(df_test[\"MEDV\"])) #tinh mse cua bad model"
   ]
  },
  {
   "cell_type": "code",
   "execution_count": 18,
   "metadata": {},
   "outputs": [
    {
     "data": {
      "text/plain": [
       "0.835205321063879"
      ]
     },
     "execution_count": 18,
     "metadata": {},
     "output_type": "execute_result"
    }
   ],
   "source": [
    "1 - mean_squared_error(y_pred, df_test[\"MEDV\"]) / mean_squared_error(df_test[\"MEDV\"], df_train[\"MEDV\"].mean()*np.ones_like(df_test[\"MEDV\"]))\n",
    "#tinh r2"
   ]
  },
  {
   "cell_type": "code",
   "execution_count": null,
   "metadata": {},
   "outputs": [],
   "source": []
  }
 ],
 "metadata": {
  "kernelspec": {
   "display_name": "Python 3",
   "language": "python",
   "name": "python3"
  },
  "language_info": {
   "codemirror_mode": {
    "name": "ipython",
    "version": 3
   },
   "file_extension": ".py",
   "mimetype": "text/x-python",
   "name": "python",
   "nbconvert_exporter": "python",
   "pygments_lexer": "ipython3",
   "version": "3.6.10"
  }
 },
 "nbformat": 4,
 "nbformat_minor": 4
}
