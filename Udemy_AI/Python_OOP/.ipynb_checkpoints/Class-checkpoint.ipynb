{
 "cells": [
  {
   "cell_type": "code",
   "execution_count": 20,
   "metadata": {},
   "outputs": [],
   "source": [
    "class Sieunhan:\n",
    "    stt = 1\n",
    "    so_thu_tu = 1\n",
    "    def __init__(self, name):\n",
    "        self.ten = name\n",
    "        self.stt = so_thu_tu\n",
    "        Sieunhan.so_thu_tu += 1\n",
    "    def xin_chao(self):\n",
    "        return f\"Xin chao {self.ten}\"\n",
    "sieu_nhan_A = Sieunhan(\"Sieu nhan xanh\")\n",
    "sieu_nhan_B = Sieunhan(\"Sieu nhan do\")\n",
    "\n"
   ]
  },
  {
   "cell_type": "code",
   "execution_count": 21,
   "metadata": {},
   "outputs": [],
   "source": []
  },
  {
   "cell_type": "code",
   "execution_count": 22,
   "metadata": {},
   "outputs": [
    {
     "name": "stdout",
     "output_type": "stream",
     "text": [
      "Sieu nhan do\n"
     ]
    }
   ],
   "source": [
    "print(sieu_nhan_A.ten)"
   ]
  },
  {
   "cell_type": "code",
   "execution_count": 23,
   "metadata": {},
   "outputs": [
    {
     "name": "stdout",
     "output_type": "stream",
     "text": [
      "Xin chao Sieu nhan do\n"
     ]
    }
   ],
   "source": [
    "print(sieu_nhan_A.xin_chao())"
   ]
  },
  {
   "cell_type": "code",
   "execution_count": 24,
   "metadata": {},
   "outputs": [
    {
     "name": "stdout",
     "output_type": "stream",
     "text": [
      "Xin chao Sieu nhan do\n"
     ]
    }
   ],
   "source": [
    "print(Sieunhan.xin_chao(sieu_nhan_A))"
   ]
  },
  {
   "cell_type": "code",
   "execution_count": null,
   "metadata": {},
   "outputs": [],
   "source": []
  }
 ],
 "metadata": {
  "kernelspec": {
   "display_name": "Python 3",
   "language": "python",
   "name": "python3"
  },
  "language_info": {
   "codemirror_mode": {
    "name": "ipython",
    "version": 3
   },
   "file_extension": ".py",
   "mimetype": "text/x-python",
   "name": "python",
   "nbconvert_exporter": "python",
   "pygments_lexer": "ipython3",
   "version": "3.6.10"
  }
 },
 "nbformat": 4,
 "nbformat_minor": 4
}
